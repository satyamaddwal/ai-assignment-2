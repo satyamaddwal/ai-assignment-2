{
 "cells": [
  {
   "cell_type": "code",
   "execution_count": 9,
   "id": "1736467f-ec4e-4c25-8afc-a0ff974776c8",
   "metadata": {},
   "outputs": [
    {
     "name": "stdout",
     "output_type": "stream",
     "text": [
      "19\n",
      "9\n",
      "70\n",
      "2\n"
     ]
    }
   ],
   "source": [
    "''' Question 1. Calculate the sum, difference, product, and quotient of two numbers.  '''\n",
    "\n",
    "# solution\n",
    "\n",
    "x = 14\n",
    "y = 5\n",
    "\n",
    "print(x+y)\n",
    "print(x-y)\n",
    "print(x*y)\n",
    "print(x//y)"
   ]
  },
  {
   "cell_type": "code",
   "execution_count": null,
   "id": "d200188b-28d5-4680-b072-093c4faaba5b",
   "metadata": {},
   "outputs": [],
   "source": [
    "''' Question 2. Perform various assignment operations on a variable.  '''\n",
    "\n",
    "# solution\n",
    "\n",
    "# assingnment\n",
    "a = 5\n",
    "\n",
    "# Addition assignment\n",
    "a += 2\n",
    "\n",
    "# Subtraction assignment\n",
    "a -=3\n",
    "\n",
    "# Multiplication assignment\n",
    "a *= 2\n",
    "\n",
    "# Division assignment\n",
    "a /= 4\n"
   ]
  },
  {
   "cell_type": "code",
   "execution_count": 12,
   "id": "effbe170-a0ad-4b92-a776-0b98370f5813",
   "metadata": {},
   "outputs": [
    {
     "name": "stdout",
     "output_type": "stream",
     "text": [
      "False\n",
      "True\n",
      "False\n",
      "True\n",
      "False\n",
      "True\n"
     ]
    }
   ],
   "source": [
    "''' Question 3. Compare two numbers and print the results.  '''\n",
    "\n",
    "# solution \n",
    "\n",
    "x = 5\n",
    "y = 6\n",
    "\n",
    "# Equal to\n",
    "print(x == y)\n",
    "\n",
    "# Not equal to\n",
    "print(x != y)\n",
    "\n",
    "# Greater than\n",
    "print(x > y)\n",
    "\n",
    "# Less than\n",
    "print(x < y)\n",
    "\n",
    "# Greater than equal to\n",
    "print (x >= y)\n",
    "\n",
    "# Less than equal to\n",
    "print(x <= y)"
   ]
  },
  {
   "cell_type": "code",
   "execution_count": 17,
   "id": "941adb8b-4cb9-4aec-8da5-80023702c62d",
   "metadata": {},
   "outputs": [
    {
     "name": "stdout",
     "output_type": "stream",
     "text": [
      "False\n",
      "True\n",
      "True\n"
     ]
    }
   ],
   "source": [
    "''' Question 4. Check conditions using logical operators.  '''\n",
    "\n",
    "# solution\n",
    "\n",
    "x = 5\n",
    "y = 8\n",
    "\n",
    "result = (x<y) and (x>y)\n",
    "print(result)\n",
    "\n",
    "result1 = (x<y) or (x>y)\n",
    "print(result1)\n",
    "\n",
    "result2 = not (x==y)\n",
    "print(result2)"
   ]
  },
  {
   "cell_type": "code",
   "execution_count": 22,
   "id": "38de9941-8104-4252-a427-480edc85168d",
   "metadata": {},
   "outputs": [
    {
     "data": {
      "text/plain": [
       "(int, str, float, bool, list)"
      ]
     },
     "execution_count": 22,
     "metadata": {},
     "output_type": "execute_result"
    }
   ],
   "source": [
    "''' Question 5. Check the identity of variables.  '''\n",
    "\n",
    "# solution\n",
    "\n",
    "a = 2\n",
    "b = 'satyam'\n",
    "c = 3.5\n",
    "d = True\n",
    "e = [1,2,3]\n",
    "\n",
    "type(a), type(b), type(c), type(d), type(e)"
   ]
  },
  {
   "cell_type": "code",
   "execution_count": 30,
   "id": "cec1efff-bc84-49aa-bab6-1e66b2e5f3eb",
   "metadata": {},
   "outputs": [
    {
     "name": "stdout",
     "output_type": "stream",
     "text": [
      "0\n",
      "14\n",
      "-9\n",
      "14\n",
      "48\n",
      "1\n"
     ]
    }
   ],
   "source": [
    "''' Question 6. Perform bitwise operations on any two integers.  '''\n",
    "\n",
    "# solution\n",
    "\n",
    "x = 6\n",
    "y = 8\n",
    "\n",
    "print(x&y)\n",
    "print(x|y)\n",
    "print(~y)\n",
    "print(x^y)\n",
    "print(x<<3)\n",
    "print(x>>2)"
   ]
  },
  {
   "cell_type": "code",
   "execution_count": 36,
   "id": "3751ef85-7720-4810-884c-32f1a8fdaacf",
   "metadata": {},
   "outputs": [
    {
     "name": "stdout",
     "output_type": "stream",
     "text": [
      "-5\n",
      "7\n"
     ]
    }
   ],
   "source": [
    "''' Question 7. Use unary operators to change the sign of a number.  '''\n",
    "\n",
    "# solution\n",
    "\n",
    "x = 5\n",
    "y = -7\n",
    "\n",
    "x1 = print(-(x))  # for positive value \n",
    "y1 = print(-(y))  # for positive value \n"
   ]
  },
  {
   "cell_type": "code",
   "execution_count": null,
   "id": "30e26b6f-a202-426f-ac9c-c7bf989f560e",
   "metadata": {},
   "outputs": [],
   "source": [
    "''' Question 8. Use the ternary operator to assign values based on conditions.  '''\n",
    "\n",
    "# solution\n",
    "\n",
    "a = 30\n",
    "b = 40\n",
    "\n",
    "num1 = a if a > b"
   ]
  }
 ],
 "metadata": {
  "kernelspec": {
   "display_name": "Python 3 (ipykernel)",
   "language": "python",
   "name": "python3"
  },
  "language_info": {
   "codemirror_mode": {
    "name": "ipython",
    "version": 3
   },
   "file_extension": ".py",
   "mimetype": "text/x-python",
   "name": "python",
   "nbconvert_exporter": "python",
   "pygments_lexer": "ipython3",
   "version": "3.10.8"
  }
 },
 "nbformat": 4,
 "nbformat_minor": 5
}
